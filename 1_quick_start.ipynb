{
 "cells": [
  {
   "cell_type": "code",
   "execution_count": 13,
   "metadata": {},
   "outputs": [],
   "source": [
    "from pyModeS.decoder import tell"
   ]
  },
  {
   "cell_type": "code",
   "execution_count": 14,
   "metadata": {},
   "outputs": [
    {
     "name": "stdout",
     "output_type": "stream",
     "text": [
      "             Message: 8D406B902015A678D4D220AA4BDA \n",
      "     Downlink Format: 17 \n",
      "            Protocal: Mode-S Extended Squitter (ADS-B) \n",
      "                Type: Identitification and category \n",
      "           Callsign:: EZY85MH_ \n"
     ]
    }
   ],
   "source": [
    "tell(\"8D406B902015A678D4D220AA4BDA\")"
   ]
  },
  {
   "cell_type": "code",
   "execution_count": 15,
   "metadata": {},
   "outputs": [
    {
     "name": "stdout",
     "output_type": "stream",
     "text": [
      "             Message: 8FC8200A3AB8F5F893096B000000 \n",
      "     Downlink Format: 17 \n",
      "            Protocal: Mode-S Extended Squitter (ADS-B) \n",
      "                Type: Surface movment \n",
      "          CPR format: Odd \n",
      "        CPR Latitude: 0.49274444580078125 \n",
      "       CPR Longitude: 0.5183944702148438 \n"
     ]
    }
   ],
   "source": [
    "tell(\"8FC8200A3AB8F5F893096B000000\")"
   ]
  },
  {
   "cell_type": "code",
   "execution_count": 16,
   "metadata": {},
   "outputs": [
    {
     "name": "stdout",
     "output_type": "stream",
     "text": [
      "             Message: 8D40058B58C901375147EFD09357 \n",
      "     Downlink Format: 17 \n",
      "            Protocal: Mode-S Extended Squitter (ADS-B) \n",
      "                Type: Airborne position (with barometric altitude) \n",
      "          CPR format: Even \n",
      "        CPR Latitude: 0.30401611328125 \n",
      "       CPR Longitude: 0.6404953002929688 \n",
      "            Altitude: 39000 feet\n"
     ]
    }
   ],
   "source": [
    "tell(\"8D40058B58C901375147EFD09357\")"
   ]
  },
  {
   "cell_type": "code",
   "execution_count": 17,
   "metadata": {},
   "outputs": [
    {
     "name": "stdout",
     "output_type": "stream",
     "text": [
      "             Message: 8D485020994409940838175B284F \n",
      "     Downlink Format: 17 \n",
      "            Protocal: Mode-S Extended Squitter (ADS-B) \n",
      "                Type: Airborne velocity \n",
      "               Speed: 159 knots\n",
      "               Track: 182.88 degrees\n",
      "       Vertical rate: -832 feet/minute\n",
      "                Type: Ground speed \n"
     ]
    }
   ],
   "source": [
    "tell(\"8D485020994409940838175B284F\")"
   ]
  },
  {
   "cell_type": "code",
   "execution_count": 18,
   "metadata": {},
   "outputs": [
    {
     "name": "stdout",
     "output_type": "stream",
     "text": [
      "             Message: A000083E202CC371C31DE0AA1CCF \n",
      "     Downlink Format: 20 \n",
      "            Protocal: Mode-S Comm-B altitude reply \n",
      "            Altitude: 12550 feet\n",
      "                 BDS: BDS20 (Aircraft identification) \n",
      "            Callsign: KLM1017_ \n"
     ]
    }
   ],
   "source": [
    "tell(\"A000083E202CC371C31DE0AA1CCF\")"
   ]
  },
  {
   "cell_type": "code",
   "execution_count": 19,
   "metadata": {},
   "outputs": [
    {
     "name": "stdout",
     "output_type": "stream",
     "text": [
      "             Message: A8001E2520053332C1A820363386 \n",
      "     Downlink Format: 21 \n",
      "            Protocal: Mode-S Comm-B identity reply \n",
      "         Squawk code: 3136 \n",
      "                 BDS: BDS20 (Aircraft identification) \n",
      "            Callsign: ASL20Z__ \n"
     ]
    }
   ],
   "source": [
    "tell(\"A8001E2520053332C1A820363386\")"
   ]
  },
  {
   "cell_type": "code",
   "execution_count": 20,
   "metadata": {},
   "outputs": [
    {
     "name": "stdout",
     "output_type": "stream",
     "text": [
      "             Message: A000029C85E42F313000007047D3 \n",
      "     Downlink Format: 20 \n",
      "            Protocal: Mode-S Comm-B altitude reply \n",
      "            Altitude: 3300 feet\n",
      "                 BDS: BDS40 (Vertical intention report) \n",
      "      MCP target alt: 3008 feet\n",
      "      FMS Target alt: 3008 feet\n",
      "            Pressure: 1020.0 millibar\n"
     ]
    }
   ],
   "source": [
    "tell(\"A000029C85E42F313000007047D3\")"
   ]
  },
  {
   "cell_type": "code",
   "execution_count": 21,
   "metadata": {},
   "outputs": [
    {
     "name": "stdout",
     "output_type": "stream",
     "text": [
      "             Message: A5DC282C2A0108372CA6DA9693B0 \n",
      "     Downlink Format: 20 \n",
      "            Protocal: Mode-S Comm-B altitude reply \n",
      "            Altitude: None feet\n",
      "                 BDS: BDS44 (Meteorological routine air report) \n",
      "          Wind speed: 128 knots\n",
      "      Wind direction: 92.8 degrees\n",
      "       Temperature 1: 55.0 Celsius\n",
      "       Temperature 2: 27.5 Celsius\n",
      "            Pressure: 809 hPa\n",
      "            Humidity: 40.6 %\n",
      "          Turbulence: 1 \n"
     ]
    }
   ],
   "source": [
    "tell(\"A5DC282C2A0108372CA6DA9693B0\")"
   ]
  },
  {
   "cell_type": "code",
   "execution_count": 22,
   "metadata": {},
   "outputs": [
    {
     "name": "stdout",
     "output_type": "stream",
     "text": [
      "             Message: A00015B8C26A00328400004242DA \n",
      "     Downlink Format: 20 \n",
      "            Protocal: Mode-S Comm-B altitude reply \n",
      "            Altitude: 34000 feet\n",
      "                 BDS: BDS45 (Meteorological hazard report) \n",
      "          Turbulence: 2 \n",
      "          Wind shear: None \n",
      "           Microbust: 0 \n",
      "               Icing: 2 \n",
      "         Wake vortex: 1 \n",
      "         Temperature: 0.0 Celsius\n",
      "            Pressure: 1185 hPa\n",
      "        Radio height: None feet\n"
     ]
    }
   ],
   "source": [
    "tell(\"A00015B8C26A00328400004242DA\")"
   ]
  },
  {
   "cell_type": "code",
   "execution_count": 23,
   "metadata": {},
   "outputs": [
    {
     "name": "stdout",
     "output_type": "stream",
     "text": [
      "             Message: A000139381951536E024D4CCF6B5 \n",
      "     Downlink Format: 20 \n",
      "            Protocal: Mode-S Comm-B altitude reply \n",
      "            Altitude: 30275 feet\n",
      "                 BDS: BDS50 (Track and turn report) \n",
      "          Roll angle: 2.1 degrees\n",
      "         Track angle: 114.258 degrees\n",
      "          Track rate: 0.125 degree/second\n",
      "        Ground speed: 438 knots\n",
      "       True airspeed: 424 knots\n"
     ]
    }
   ],
   "source": [
    "tell(\"A000139381951536E024D4CCF6B5\")"
   ]
  },
  {
   "cell_type": "code",
   "execution_count": 24,
   "metadata": {},
   "outputs": [
    {
     "name": "stdout",
     "output_type": "stream",
     "text": [
      "             Message: A00004128F39F91A7E27C46ADC21 \n",
      "     Downlink Format: 20 \n",
      "            Protocal: Mode-S Comm-B altitude reply \n",
      "            Altitude: 5450 feet\n",
      "                 BDS: BDS60 (Heading and speed report) \n",
      "    Megnatic Heading: 42.715 degrees\n",
      "  Indicated airspeed: 252 knots\n",
      "         Mach number: 0.42 \n",
      "Vertical rate (Baro): -1920 feet/minute\n",
      " Vertical rate (INS): -1920 feet/minute\n"
     ]
    }
   ],
   "source": [
    "tell(\"A00004128F39F91A7E27C46ADC21\")"
   ]
  }
 ],
 "metadata": {
  "kernelspec": {
   "display_name": "Python 3",
   "language": "python",
   "name": "python3"
  },
  "language_info": {
   "codemirror_mode": {
    "name": "ipython",
    "version": 3
   },
   "file_extension": ".py",
   "mimetype": "text/x-python",
   "name": "python",
   "nbconvert_exporter": "python",
   "pygments_lexer": "ipython3",
   "version": "3.7.3"
  }
 },
 "nbformat": 4,
 "nbformat_minor": 4
}
